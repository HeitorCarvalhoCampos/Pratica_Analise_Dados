{
 "cells": [
  {
   "cell_type": "code",
   "execution_count": 32,
   "metadata": {},
   "outputs": [],
   "source": [
    "import pandas as pd\n",
    "import matplotlib.pyplot as plt\n",
    "import seaborn as sns\n",
    "import numpy as np\n",
    "import matplotlib.pyplot as plt\n",
    "import seaborn as sns\n",
    "import plotly.express as px\n",
    "#instalar scikit-learn\n",
    "from sklearn.preprocessing import LabelEncoder, OrdinalEncoder\n",
    "from sklearn.model_selection import train_test_split\n",
    "from sklearn.compose import ColumnTransformer, make_column_selector"
   ]
  },
  {
   "cell_type": "markdown",
   "metadata": {},
   "source": [
    "### Pré processamento"
   ]
  },
  {
   "cell_type": "code",
   "execution_count": 33,
   "metadata": {},
   "outputs": [
    {
     "data": {
      "text/html": [
       "<div>\n",
       "<style scoped>\n",
       "    .dataframe tbody tr th:only-of-type {\n",
       "        vertical-align: middle;\n",
       "    }\n",
       "\n",
       "    .dataframe tbody tr th {\n",
       "        vertical-align: top;\n",
       "    }\n",
       "\n",
       "    .dataframe thead th {\n",
       "        text-align: right;\n",
       "    }\n",
       "</style>\n",
       "<table border=\"1\" class=\"dataframe\">\n",
       "  <thead>\n",
       "    <tr style=\"text-align: right;\">\n",
       "      <th></th>\n",
       "      <th>Cenas de Luta</th>\n",
       "      <th>Nível de Humor</th>\n",
       "      <th>Passa no Futuro</th>\n",
       "      <th>Orçamento</th>\n",
       "      <th>Público Alvo</th>\n",
       "      <th>Baseado em Fatos Reais</th>\n",
       "      <th>Tem Música Marcante</th>\n",
       "      <th>Gênero</th>\n",
       "    </tr>\n",
       "  </thead>\n",
       "  <tbody>\n",
       "    <tr>\n",
       "      <th>0</th>\n",
       "      <td>Sim</td>\n",
       "      <td>Baixo</td>\n",
       "      <td>Não</td>\n",
       "      <td>Alto</td>\n",
       "      <td>Adulto</td>\n",
       "      <td>Não</td>\n",
       "      <td>Sim</td>\n",
       "      <td>Ação</td>\n",
       "    </tr>\n",
       "    <tr>\n",
       "      <th>1</th>\n",
       "      <td>Não</td>\n",
       "      <td>Alto</td>\n",
       "      <td>Não</td>\n",
       "      <td>Médio</td>\n",
       "      <td>Jovem</td>\n",
       "      <td>Não</td>\n",
       "      <td>Sim</td>\n",
       "      <td>Comédia</td>\n",
       "    </tr>\n",
       "    <tr>\n",
       "      <th>2</th>\n",
       "      <td>Sim</td>\n",
       "      <td>Baixo</td>\n",
       "      <td>Sim</td>\n",
       "      <td>Alto</td>\n",
       "      <td>Jovem</td>\n",
       "      <td>Não</td>\n",
       "      <td>Sim</td>\n",
       "      <td>Ficção Científica</td>\n",
       "    </tr>\n",
       "    <tr>\n",
       "      <th>3</th>\n",
       "      <td>Sim</td>\n",
       "      <td>Médio</td>\n",
       "      <td>Não</td>\n",
       "      <td>Médio</td>\n",
       "      <td>Jovem</td>\n",
       "      <td>Sim</td>\n",
       "      <td>Não</td>\n",
       "      <td>Ação</td>\n",
       "    </tr>\n",
       "    <tr>\n",
       "      <th>4</th>\n",
       "      <td>Não</td>\n",
       "      <td>Alto</td>\n",
       "      <td>Não</td>\n",
       "      <td>Baixo</td>\n",
       "      <td>Infantil</td>\n",
       "      <td>Não</td>\n",
       "      <td>Sim</td>\n",
       "      <td>Comédia</td>\n",
       "    </tr>\n",
       "  </tbody>\n",
       "</table>\n",
       "</div>"
      ],
      "text/plain": [
       "  Cenas de Luta Nível de Humor Passa no Futuro Orçamento Público Alvo  \\\n",
       "0           Sim          Baixo             Não      Alto       Adulto   \n",
       "1           Não           Alto             Não     Médio        Jovem   \n",
       "2           Sim          Baixo             Sim      Alto        Jovem   \n",
       "3           Sim          Médio             Não     Médio        Jovem   \n",
       "4           Não           Alto             Não     Baixo     Infantil   \n",
       "\n",
       "  Baseado em Fatos Reais Tem Música Marcante             Gênero  \n",
       "0                    Não                 Sim               Ação  \n",
       "1                    Não                 Sim            Comédia  \n",
       "2                    Não                 Sim  Ficção Científica  \n",
       "3                    Sim                 Não               Ação  \n",
       "4                    Não                 Sim            Comédia  "
      ]
     },
     "execution_count": 33,
     "metadata": {},
     "output_type": "execute_result"
    }
   ],
   "source": [
    "# Lendo a base de dados; ler xlsx\n",
    "dados = pd.read_excel('./filmes.xlsx')\n",
    "\n",
    "# Visualizando a base de dados\n",
    "dados.head()"
   ]
  },
  {
   "cell_type": "markdown",
   "metadata": {},
   "source": [
    "### Normalizando/Separando os dados"
   ]
  },
  {
   "cell_type": "code",
   "execution_count": 34,
   "metadata": {},
   "outputs": [],
   "source": [
    "# Separar atributos e respostas\n",
    "atributos = dados.drop('Gênero', axis=1)\n",
    "resposta = dados['Gênero']\n",
    "# display(atributos)\n",
    "# display(resposta)\n",
    "\n",
    "# Separar colunas categóricas e numéricas, facilitando identificação\n",
    "col_cat = atributos.select_dtypes(include=object).columns\n",
    "col_num = atributos.select_dtypes(exclude=object).columns\n",
    "\n",
    "# Transformando atributos\n",
    "transformar = ColumnTransformer(transformers=[\n",
    "    ('categoricas', OrdinalEncoder(), col_cat)\n",
    "], remainder='passthrough')  # mantém as numéricas\n",
    "\n",
    "atributos = transformar.fit_transform(atributos)\n",
    "\n",
    "# Ajustar ordem das colunas: primeiro as categóricas transformadas, depois as numéricas\n",
    "nova_ordem_colunas = list(col_cat) + list(col_num)\n",
    "\n",
    "df_atributos = pd.DataFrame(atributos, columns=nova_ordem_colunas)\n",
    "# display(df_atributos)\n",
    "\n"
   ]
  },
  {
   "cell_type": "markdown",
   "metadata": {},
   "source": [
    "### Separando treino em 75% e teste em 30%"
   ]
  },
  {
   "cell_type": "code",
   "execution_count": 35,
   "metadata": {},
   "outputs": [],
   "source": [
    "# separar em treino 70% e 30% teste \n",
    "x_treino, x_teste, y_treino, y_teste = train_test_split(atributos, resposta, test_size=0.25, random_state=0)\n",
    "\n",
    "# Atributos\n",
    "# display(pd.DataFrame(x_treino))\n",
    "# display(pd.DataFrame(x_teste))\n",
    "\n",
    "# Respostas\n",
    "# display(pd.DataFrame(y_treino))\n",
    "# display(pd.DataFrame(y_teste))"
   ]
  },
  {
   "cell_type": "markdown",
   "metadata": {},
   "source": [
    "### KNN"
   ]
  },
  {
   "cell_type": "code",
   "execution_count": 47,
   "metadata": {},
   "outputs": [
    {
     "name": "stdout",
     "output_type": "stream",
     "text": [
      "Acuracia 60.0\n"
     ]
    },
    {
     "data": {
      "image/png": "[encoded data removed]",
      "text/plain": [
       "<Figure size 640x480 with 2 Axes>"
      ]
     },
     "metadata": {},
     "output_type": "display_data"
    }
   ],
   "source": [
    "from sklearn.neighbors import KNeighborsClassifier\n",
    "from sklearn.metrics import accuracy_score, confusion_matrix\n",
    "\n",
    "# Definindo os k vizinhos\n",
    "k = 7\n",
    "\n",
    "# Criando o classificador\n",
    "classificador_knn = KNeighborsClassifier(n_neighbors=k)\n",
    "\n",
    "# Treinando o algoritmo\n",
    "classificador_knn.fit(x_treino, y_treino)\n",
    "\n",
    "# Predição\n",
    "resp_knn = classificador_knn.predict(x_teste)\n",
    "\n",
    "# Validar a performance\n",
    "accuracia_knn = accuracy_score(y_teste, resp_knn)\n",
    "\n",
    "print(\"Acuracia\",accuracia_knn*100)\n",
    "\n",
    "#matriz de confusão\n",
    "matriz_confusao_knn = confusion_matrix(y_teste, resp_knn)\n",
    "\n",
    "# print(matriz_confusao_knn)\n",
    "\n",
    "# Matriz de confusão gráfica\n",
    "sns.heatmap(matriz_confusao_knn, fmt='d', square=True, annot=True, \n",
    "            cmap='Blues',\n",
    "            cbar=True,\n",
    "            yticklabels=classificador_knn.classes_, xticklabels=classificador_knn.classes_)\n",
    "plt.title('KNN')\n",
    "plt.xlabel('Predito')\n",
    "plt.ylabel('Verdadeiro')\n",
    "plt.show()"
   ]
  }
 ],
 "metadata": {
  "kernelspec": {
   "display_name": "venv-test",
   "language": "python",
   "name": "python3"
  },
  "language_info": {
   "codemirror_mode": {
    "name": "ipython",
    "version": 3
   },
   "file_extension": ".py",
   "mimetype": "text/x-python",
   "name": "python",
   "nbconvert_exporter": "python",
   "pygments_lexer": "ipython3",
   "version": "3.12.3"
  }
 },
 "nbformat": 4,
 "nbformat_minor": 2
}
