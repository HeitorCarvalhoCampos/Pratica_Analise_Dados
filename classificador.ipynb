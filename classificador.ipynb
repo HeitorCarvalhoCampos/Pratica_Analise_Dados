{
 "cells": [
  {
   "cell_type": "code",
   "execution_count": null,
   "id": "ba12a1c9",
   "metadata": {},
   "outputs": [],
   "source": [
    "import pandas as pd\n",
    "import numpy as np\n",
    "import matplotlib.pyplot as plt\n",
    "import seaborn as sns\n",
    "import plotly.express as px"
   ]
  },
  {
   "cell_type": "code",
   "execution_count": null,
   "id": "764f9320",
   "metadata": {},
   "outputs": [],
   "source": [
    "#lendo a base de dados\n",
    "dados = pd.read_csv('./database/dataset.csv')\n",
    "\n",
    "display(dados.head())"
   ]
  },
  {
   "cell_type": "code",
   "execution_count": null,
   "id": "dbabbc8a",
   "metadata": {},
   "outputs": [],
   "source": [
    "# Remover - outliers\n",
    "\n",
    "def remove_outliers(df, colunas):\n",
    "    for col in colunas:\n",
    "        Q1 = df[col].quantile(0.25)\n",
    "        Q3 = df[col].quantile(0.75)\n",
    "        IQR = Q3 - Q1\n",
    "        limite_inferior = Q1 - 1.5 * IQR\n",
    "        limite_superior = Q3 + 1.5 * IQR\n",
    "        df = df[(df[col] >= limite_inferior) & (df[col] <= limite_superior)]\n",
    "    return df    \n",
    "\n",
    "# aplicar a funcao remove_outliers\n",
    "colunas_para_filtar = dados.columns[[10,11]]\n",
    "dados_sem_outliers =  remove_outliers(dados, colunas_para_filtar)\n",
    "\n",
    "# Apresentar os dados estatisticos\n",
    "dados_sem_outliers.iloc[:,[10,11]].hist(figsize=(10,5))\n",
    "plt.show()"
   ]
  },
  {
   "cell_type": "code",
   "execution_count": null,
   "id": "7ef3f479",
   "metadata": {},
   "outputs": [],
   "source": [
    "column_name = \"coluna a se pegar\"\n",
    "\n",
    "dados.columns.get_loc(column_name)\n",
    "\n",
    "column_number = dados.columns.get_loc(column_name)\n",
    "\n",
    "# Seleciona todas as linhas (:) e colunas de 0 a 19\n",
    "atributos = dados.iloc[:, 0:column_number].values\n",
    "\n",
    "# Seleciona todas as linhas (:) e apenas a coluna 20\n",
    "resposta = dados.iloc[:, column_number].values\n",
    "\n",
    "df_atributos = pd.DataFrame(atributos)\n",
    "df_resposta = pd.DataFrame(resposta)\n"
   ]
  },
  {
   "cell_type": "code",
   "execution_count": null,
   "id": "2dc4dff7",
   "metadata": {},
   "outputs": [],
   "source": [
    "from sklearn.preprocessing import LabelEncoder\n",
    "LabelEncoder_resposta = LabelEncoder()\n",
    "\n",
    "resposta = LabelEncoder_resposta.fit_transform(resposta)\n",
    "df_respota = pd.DataFrame(resposta)\n",
    "display(df_respota)"
   ]
  },
  {
   "cell_type": "code",
   "execution_count": null,
   "id": "e41a6879",
   "metadata": {},
   "outputs": [],
   "source": [
    "df_atributos = pd.DataFrame(atributos)\n",
    "\n",
    "label_encoder = LabelEncoder()\n",
    "\n",
    "for col in df_atributos.columns:\n",
    "    # Verifica se o tipo da coluna é string (object)\n",
    "    if df_atributos[col].dtype == object:\n",
    "        df_atributos[col] = label_encoder.fit_transform(df_atributos[col])\n",
    "\n",
    "display(df_atributos)"
   ]
  },
  {
   "cell_type": "code",
   "execution_count": null,
   "id": "30616d0d",
   "metadata": {},
   "outputs": [],
   "source": [
    "from sklearn.model_selection import train_test_split\n",
    "\n",
    "# separar em treino 75% e 25% teste \n",
    "atributos_treino,atributos_teste, resposta_treino, resposta_teste = train_test_split(atributos, resposta, test_size=0.25, random_state=0)\n",
    "\n",
    "display(pd.DataFrame(atributos_treino))\n",
    "display(pd.DataFrame(atributos_teste))"
   ]
  }
 ],
 "metadata": {
  "language_info": {
   "name": "python"
  }
 },
 "nbformat": 4,
 "nbformat_minor": 5
}
